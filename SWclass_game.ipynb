{
  "nbformat": 4,
  "nbformat_minor": 0,
  "metadata": {
    "colab": {
      "provenance": [],
      "authorship_tag": "ABX9TyMDuGf3WmIjVxnZ/hzhGvOC",
      "include_colab_link": true
    },
    "kernelspec": {
      "name": "python3",
      "display_name": "Python 3"
    },
    "language_info": {
      "name": "python"
    }
  },
  "cells": [
    {
      "cell_type": "markdown",
      "metadata": {
        "id": "view-in-github",
        "colab_type": "text"
      },
      "source": [
        "<a href=\"https://colab.research.google.com/github/osohyun0224/2023_Computer_Teaching_Practice/blob/master/SWclass_game.ipynb\" target=\"_parent\"><img src=\"https://colab.research.google.com/assets/colab-badge.svg\" alt=\"Open In Colab\"/></a>"
      ]
    },
    {
      "cell_type": "code",
      "execution_count": 5,
      "metadata": {
        "colab": {
          "base_uri": "https://localhost:8080/"
        },
        "id": "HJdNO2F8zHzC",
        "outputId": "d43fb826-08a5-489f-a33a-f4356682035a"
      },
      "outputs": [
        {
          "output_type": "stream",
          "name": "stdout",
          "text": [
            "0~100까지의 숫자를 입력하세요.\n",
            "1 번째 도전!!\n",
            "당신의 선택은 ? 3\n",
            "정답보다 작네요\n",
            "2 번째 도전!!\n",
            "당신의 선택은 ? 20\n",
            "정답보다 작네요\n",
            "3 번째 도전!!\n",
            "당신의 선택은 ? 40\n",
            "정답입니다.\n"
          ]
        }
      ],
      "source": [
        "import random\n",
        "\n",
        "print('0~100까지의 숫자를 입력하세요.')\n",
        "\n",
        "com = random.randint(0,100)\n",
        "\n",
        "count = 0\n",
        "while True:\n",
        "\n",
        "    count += 1\n",
        "    print(f\"{count} 번째 도전!!\")\n",
        "    user = int(input('당신의 선택은 ? '))\n",
        "\n",
        "    if user > com:\n",
        "        print('정답보다 크네요')\n",
        "    elif user < com:\n",
        "        print('정답보다 작네요')\n",
        "    else:\n",
        "        print('정답입니다.')\n",
        "        break"
      ]
    }
  ]
}